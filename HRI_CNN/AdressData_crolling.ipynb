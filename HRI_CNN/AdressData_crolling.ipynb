{
 "cells": [
  {
   "cell_type": "markdown",
   "metadata": {},
   "source": [
    "Google Selenium을 사용하여 물환경정보시스템(http://water.nier.go.kr/web/bioMeasure?pMENU_NO=10)에서 데이터를 수집하는 과정임\n"
   ]
  },
  {
   "cell_type": "code",
   "execution_count": 8,
   "metadata": {},
   "outputs": [],
   "source": [
    "import time\n",
    "import urllib.request\n",
    "from selenium import webdriver\n",
    "from bs4 import BeautifulSoup\n",
    "\n"
   ]
  },
  {
   "cell_type": "code",
   "execution_count": 9,
   "metadata": {},
   "outputs": [
    {
     "name": "stderr",
     "output_type": "stream",
     "text": [
      "<ipython-input-9-7f4971067b17>:1: DeprecationWarning: executable_path has been deprecated, please pass in a Service object\n",
      "  driver = webdriver.Chrome('C:/Users/tlseh/Desktop/chromedriver/chromedriver')\n"
     ]
    }
   ],
   "source": [
    "driver = webdriver.Chrome('C:/Users/tlseh/Desktop/chromedriver/chromedriver')\n",
    "time.sleep(3)\n",
    "driver.get('http://water.nier.go.kr/web/bioMeasure?pMENU_NO=10')"
   ]
  },
  {
   "cell_type": "code",
   "execution_count": 15,
   "metadata": {},
   "outputs": [
    {
     "name": "stderr",
     "output_type": "stream",
     "text": [
      "<ipython-input-15-184a8df916e2>:1: DeprecationWarning: find_element_by_* commands are deprecated. Please use find_element() instead\n",
      "  driver.find_element_by_xpath('//*[@id=\"serchRadio23\"]').click() #서식및 수변환경 선택\n",
      "<ipython-input-15-184a8df916e2>:2: DeprecationWarning: find_element_by_* commands are deprecated. Please use find_element() instead\n",
      "  driver.find_element_by_xpath('//*[@id=\"searchForm\"]/div[2]/div[4]/a').click() #지점선택\n"
     ]
    }
   ],
   "source": [
    "driver.find_element_by_xpath('//*[@id=\"serchRadio23\"]').click() #서식및 수변환경 선택\n",
    "driver.find_element_by_xpath('//*[@id=\"searchForm\"]/div[2]/div[4]/a').click() #지점선택\n",
    "time.sleep(5)"
   ]
  },
  {
   "cell_type": "code",
   "execution_count": 16,
   "metadata": {},
   "outputs": [
    {
     "name": "stderr",
     "output_type": "stream",
     "text": [
      "<ipython-input-16-5e4e2a77130f>:2: DeprecationWarning: find_element_by_* commands are deprecated. Please use find_element() instead\n",
      "  driver.find_element_by_xpath('/html/body/div[3]/div[2]/form[1]/div[2]/div[4]/div[1]/div[3]/div[1]/div/div/div[2]/table/tbody/tr[{}]/td[1]/input'.format(i)).click()\n"
     ]
    }
   ],
   "source": [
    "for i in range(1,3040):\n",
    "    driver.find_element_by_xpath('/html/body/div[3]/div[2]/form[1]/div[2]/div[4]/div[1]/div[3]/div[1]/div/div/div[2]/table/tbody/tr[{}]/td[1]/input'.format(i)).click()\n",
    "    #time.sleep(1)\n",
    "    "
   ]
  },
  {
   "cell_type": "code",
   "execution_count": 17,
   "metadata": {},
   "outputs": [
    {
     "name": "stderr",
     "output_type": "stream",
     "text": [
      "<ipython-input-17-20933604ba17>:1: DeprecationWarning: find_element_by_* commands are deprecated. Please use find_element() instead\n",
      "  driver.find_element_by_xpath('//*[@id=\"dataSearchPop\"]/div[4]/a[1]').click()\n"
     ]
    }
   ],
   "source": [
    "driver.find_element_by_xpath('//*[@id=\"dataSearchPop\"]/div[4]/a[1]').click()"
   ]
  },
  {
   "cell_type": "code",
   "execution_count": null,
   "metadata": {},
   "outputs": [],
   "source": [
    "driver.find_element_by_xpath('//*[@id=\"searchForm\"]/div[2]/a').click()\n",
    "time.sleep(10)\n",
    "driver.find_element_by_xpath('//*[@id=\"searchForm\"]/div[3]/div/a[3]').click()\n",
    "time.sleep(10)\n",
    "driver.find_element_by_xpath('//*[@id=\"searchForm\"]/div[3]/div/a[2]').click()"
   ]
  }
 ],
 "metadata": {
  "interpreter": {
   "hash": "fd77d87a4de16a9f9d3defb60096616496f7169aca57ee3347a964a29a767458"
  },
  "kernelspec": {
   "display_name": "Python 3.9.7 64-bit ('pytorch1': conda)",
   "language": "python",
   "name": "python3"
  },
  "language_info": {
   "codemirror_mode": {
    "name": "ipython",
    "version": 3
   },
   "file_extension": ".py",
   "mimetype": "text/x-python",
   "name": "python",
   "nbconvert_exporter": "python",
   "pygments_lexer": "ipython3",
   "version": "3.8.8"
  },
  "orig_nbformat": 4
 },
 "nbformat": 4,
 "nbformat_minor": 2
}

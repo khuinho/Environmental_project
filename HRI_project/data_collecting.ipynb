{
 "cells": [
  {
   "cell_type": "code",
   "execution_count": 2,
   "metadata": {},
   "outputs": [],
   "source": [
    "import pandas as pd\n",
    "import pyautogui as auto\n",
    "import time"
   ]
  },
  {
   "cell_type": "code",
   "execution_count": 3,
   "metadata": {},
   "outputs": [],
   "source": [
    "data = pd.read_csv('data\\좌표포함_수정.csv', encoding= 'cp949')"
   ]
  },
  {
   "cell_type": "code",
   "execution_count": 8,
   "metadata": {},
   "outputs": [
    {
     "data": {
      "text/plain": [
       "1125"
      ]
     },
     "execution_count": 8,
     "metadata": {},
     "output_type": "execute_result"
    }
   ],
   "source": [
    "len(data.위도)"
   ]
  },
  {
   "cell_type": "code",
   "execution_count": 12,
   "metadata": {},
   "outputs": [
    {
     "data": {
      "text/plain": [
       "'37.46477222'"
      ]
     },
     "execution_count": 12,
     "metadata": {},
     "output_type": "execute_result"
    }
   ],
   "source": [
    "data.위도[0]"
   ]
  },
  {
   "cell_type": "code",
   "execution_count": 3,
   "metadata": {},
   "outputs": [
    {
     "name": "stdout",
     "output_type": "stream",
     "text": [
      "Point(x=66, y=117)\n"
     ]
    }
   ],
   "source": [
    "검색창 = auto.position()\n",
    "print(검색창)"
   ]
  },
  {
   "cell_type": "code",
   "execution_count": 4,
   "metadata": {},
   "outputs": [
    {
     "name": "stdout",
     "output_type": "stream",
     "text": [
      "Point(x=234, y=120)\n"
     ]
    }
   ],
   "source": [
    "검색 = auto.position()\n",
    "print(검색)"
   ]
  },
  {
   "cell_type": "code",
   "execution_count": 7,
   "metadata": {},
   "outputs": [
    {
     "name": "stdout",
     "output_type": "stream",
     "text": [
      "Point(x=671, y=112)\n"
     ]
    }
   ],
   "source": [
    "이미지저장 = auto.position()\n",
    "print(이미지저장)"
   ]
  },
  {
   "cell_type": "code",
   "execution_count": 8,
   "metadata": {},
   "outputs": [
    {
     "name": "stdout",
     "output_type": "stream",
     "text": [
      "Point(x=998, y=689)\n"
     ]
    }
   ],
   "source": [
    "저장 = auto.position()\n",
    "print(저장)"
   ]
  },
  {
   "cell_type": "code",
   "execution_count": 42,
   "metadata": {},
   "outputs": [],
   "source": [
    "auto.moveTo(검색창)\n",
    "auto.click()"
   ]
  },
  {
   "cell_type": "code",
   "execution_count": 5,
   "metadata": {},
   "outputs": [
    {
     "data": {
      "text/plain": [
       "\"\\nauto.typewrite(data.N[0])\\n\\nauto.typewrite(['enter'])\\nauto.typewrite(data.N[0][:3])\\nauto.typewrite(data.N[0][3:])\\nauto.typewrite('°')\\n\\n#auto.typewrite(' , ')\\n#auto.typewrite(data.E[0])\\n\""
      ]
     },
     "execution_count": 5,
     "metadata": {},
     "output_type": "execute_result"
    }
   ],
   "source": [
    "for i in range(len(data.위도)):\n",
    "    \n",
    "    auto.moveTo(66,117)# 검색창\n",
    "    auto.click()\n",
    "    time.sleep(1)\n",
    "    auto.hotkey('ctrl','a')\n",
    "    auto.typewrite(data.위도[i])\n",
    "    time.sleep(1)\n",
    "    auto.typewrite(',')\n",
    "    auto.typewrite(data.경도[i])\n",
    "    time.sleep(1)\n",
    "    auto.moveTo(234,120) # 검색\n",
    "    auto.click()\n",
    "    time.sleep(10)\n",
    "    auto.moveTo(671,112) #이미지 저장 버튼\n",
    "    auto.click()\n",
    "    time.sleep(2)\n",
    "    auto.typewrite(str(i))\n",
    "    time.sleep(1)\n",
    "    auto.moveTo(998,689)\n",
    "    auto.click()\n",
    "    time.sleep(10)\n",
    "\n",
    "'''\n",
    "auto.typewrite(data.N[0])\n",
    "\n",
    "auto.typewrite(['enter'])\n",
    "auto.typewrite(data.N[0][:3])\n",
    "auto.typewrite(data.N[0][3:])\n",
    "auto.typewrite('°')\n",
    "\n",
    "#auto.typewrite(' , ')\n",
    "#auto.typewrite(data.E[0])\n",
    "'''"
   ]
  },
  {
   "cell_type": "code",
   "execution_count": 25,
   "metadata": {},
   "outputs": [
    {
     "data": {
      "text/plain": [
       "'37°'"
      ]
     },
     "execution_count": 25,
     "metadata": {},
     "output_type": "execute_result"
    }
   ],
   "source": [
    "data.N[0][:3]"
   ]
  }
 ],
 "metadata": {
  "interpreter": {
   "hash": "fd77d87a4de16a9f9d3defb60096616496f7169aca57ee3347a964a29a767458"
  },
  "kernelspec": {
   "display_name": "Python 3.9.7 ('pytorch1')",
   "language": "python",
   "name": "python3"
  },
  "language_info": {
   "codemirror_mode": {
    "name": "ipython",
    "version": 3
   },
   "file_extension": ".py",
   "mimetype": "text/x-python",
   "name": "python",
   "nbconvert_exporter": "python",
   "pygments_lexer": "ipython3",
   "version": "3.9.7"
  },
  "orig_nbformat": 4
 },
 "nbformat": 4,
 "nbformat_minor": 2
}
